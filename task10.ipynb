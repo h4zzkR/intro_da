{
  "cells": [
    {
      "cell_type": "markdown",
      "metadata": {
        "id": "KD8nKM8PubR6"
      },
      "source": [
        "# <a href=\"https://mipt-stats.gitlab.io/courses/ad_fivt.html\">Введение в анализ данных</a>\n",
        "## Домашнее задание 10. Нейронные сети.\n"
      ]
    },
    {
      "cell_type": "markdown",
      "metadata": {
        "id": "WcaN6yPjubR9"
      },
      "source": [
        "**Правила, <font color=\"red\">прочитайте внимательно</font>:**\n",
        "\n",
        "* Выполненную работу нужно отправить телеграм-боту `@miptstats_ds22_bot`. Для начала работы с ботом каждый раз отправляйте `/start`. **Работы, присланные иным способом, не принимаются.**\n",
        "* Дедлайн см. в боте. После дедлайна работы не принимаются кроме случаев наличия уважительной причины.\n",
        "* Прислать нужно **ноутбук в формате `ipynb`**.\n",
        "* Следите за размером файлов. **Бот не может принимать файлы весом более 20 Мб.** Если файл получается больше, заранее разделите его на несколько.\n",
        "* Выполнять задание необходимо полностью самостоятельно. **При обнаружении списывания все участники списывания будут сдавать устный зачет.**\n",
        "* Решения, размещенные на каких-либо интернет-ресурсах, не принимаются. Кроме того, публикация решения в открытом доступе может быть приравнена к предоставлении возможности списать.\n",
        "* Для выполнения задания используйте этот ноутбук в качестве основы, ничего не удаляя из него. Можно добавлять необходимое количество ячеек.\n",
        "* Комментарии к решению пишите в markdown-ячейках.\n",
        "* Выполнение задания (ход решения, выводы и пр.) должно быть осуществлено на русском языке.\n",
        "* Если код будет не понятен проверяющему, оценка может быть снижена.\n",
        "* Никакой код из данного задания при проверке запускаться не будет. *Если код студента не выполнен, недописан и т.д., то он не оценивается.*\n",
        "\n",
        "**Правила оформления теоретических задач:**\n",
        "\n",
        "* Решения необходимо прислать одним из следующих способов:\n",
        "  * фотографией в правильной ориентации, где все четко видно, а почерк разборчив,\n",
        "    * отправив ее как файл боту вместе с ноутбуком *или*\n",
        "    * вставив ее в ноутбук посредством `Edit -> Insert Image`;\n",
        "  * в виде $LaTeX$ в markdown-ячейках.\n",
        "* Решения не проверяются, если какое-то требование не выполнено. Особенно внимательно все проверьте в случае выбора второго пункта (вставки фото в ноутбук). <font color=\"red\"><b>Неправильно вставленные фотографии могут не передаться при отправке.</b></font> Для проверки попробуйте переместить `ipynb` в другую папку и открыть его там.\n",
        "* В решениях поясняйте, чем вы пользуетесь, хотя бы кратко. Например, если пользуетесь независимостью, то достаточно подписи вида \"*X и Y незав.*\"\n",
        "* Решение, в котором есть только ответ, и отсутствуют вычисления, оценивается в 0 баллов.\n",
        "\n",
        "\n",
        "\n",
        "**Баллы за задание:**\n",
        "\n",
        "* Задача 1 &mdash; 50 баллов\n",
        "* Задача 2 &mdash; 40 баллов\n",
        "* Задача 3 &mdash; 10 баллов\n",
        "\n",
        "Баллы учитываются в <b><font color=\"green\">факультативной части</font></b> курса и не влияют на оценку по основной части."
      ]
    },
    {
      "cell_type": "code",
      "execution_count": 45,
      "metadata": {
        "id": "ht9Xm0EucoAr"
      },
      "outputs": [],
      "source": [
        "import numpy as np\n",
        "import scipy.stats as sps\n",
        "\n",
        "import matplotlib.pyplot as plt\n",
        "import seaborn as sns\n",
        "\n",
        "from tqdm import tqdm_notebook as tqdm\n",
        "from sklearn.model_selection import train_test_split\n",
        "from sklearn.utils import shuffle\n",
        "\n",
        "from IPython.display import clear_output\n",
        "\n",
        "sns.set(font_scale=1.2, palette='Set2')\n",
        "%matplotlib inline"
      ]
    },
    {
      "cell_type": "code",
      "execution_count": 2,
      "metadata": {},
      "outputs": [],
      "source": [
        "def show_progress(x, y, y_pred, loss):\n",
        "    '''\n",
        "    Визуализация процесса обучения.\n",
        "    x, y -- объекты и таргеты обучающей выборки;\n",
        "    y_pred -- предсказания модели;\n",
        "    loss -- текущее значение ошибки модели.\n",
        "    '''\n",
        "\n",
        "    # Избавимся от градиентов перед отрисовкой графика\n",
        "    y_pred = y_pred.detach()\n",
        "\n",
        "    # Превратим тензор размерности 0 в число, для краисивого отображения\n",
        "    loss = loss.item()\n",
        "\n",
        "    # Стираем предыдущий вывод в тот момент, когда появится следующий\n",
        "    clear_output(wait=True)\n",
        "\n",
        "    # Строим новый график\n",
        "    plt.figure(figsize=(10, 7))\n",
        "    plt.scatter(x, y, alpha=0.75)\n",
        "    plt.scatter(x, y_pred, color='orange', linewidth=5)\n",
        "    plt.xlabel('Признак')\n",
        "    plt.ylabel('Таргет')\n",
        "    plt.show()\n",
        "\n",
        "    print(f\"MSE = {loss:.3f}\")"
      ]
    },
    {
      "cell_type": "code",
      "execution_count": 17,
      "metadata": {},
      "outputs": [],
      "source": [
        "def show_progress_np(x, y, y_pred, loss):\n",
        "    # Стираем предыдущий вывод в тот момент, когда появится следующий\n",
        "    clear_output(wait=True)\n",
        "\n",
        "    # Строим новый график\n",
        "    plt.figure(figsize=(10, 7))\n",
        "    plt.scatter(x, y, alpha=0.75)\n",
        "    plt.scatter(x, y_pred, color='orange', linewidth=3)\n",
        "    plt.xlabel('Признак')\n",
        "    plt.ylabel('Таргет')\n",
        "    plt.show()\n",
        "\n",
        "    print(f\"MSE = {loss:.3f}\")"
      ]
    },
    {
      "cell_type": "markdown",
      "metadata": {
        "id": "IPPu4PrPubSC"
      },
      "source": [
        "Перед выполнением задания обязательно посмотрите <a href=\"https://mipt-stats.gitlab.io/courses/ad_fivt/lecture9.pdf\" target=\"_blank\">презентацию</a> с занятия по нейронным сетям."
      ]
    },
    {
      "cell_type": "markdown",
      "metadata": {
        "id": "pdsExQLiubSF"
      },
      "source": [
        "---\n",
        "### Задача 1.\n",
        "\n",
        "Рассмотрим двухслойную нейронную сеть, которая принимает на вход $x\\in\\mathbb{R}$ и возвращает $y\\in\\mathbb{R}$. Выход первого слоя возвращает $u \\in\\mathbb{R}^2$. После первого слоя используется функция активации $\\sigma(x) = \\frac{1}{1 + \\exp(-x)}$, после второго слоя функция активации не используется (или используется тождественная). Тем самым нашу нейронную можно представить в виде\n",
        "\n",
        "$$\\widehat{y}(x) = w_{21}u_1(x) + w_{22}u_2(x) + b_2,$$\n",
        "\n",
        "$$u_1(x) = \\sigma\\big(w_{11}x + b_{11}\\big),$$\n",
        "\n",
        "$$u_2(x) = \\sigma\\big(w_{12}x + b_{12}\\big).$$\n",
        "\n"
      ]
    },
    {
      "cell_type": "markdown",
      "metadata": {
        "id": "_GIlgSjrubSG"
      },
      "source": [
        "**1.** Нарисуйте схематически данную нейронную сеть. Сколько у нее обучаемых параметров?"
      ]
    },
    {
      "cell_type": "markdown",
      "metadata": {
        "id": "vN8-SKcsubSH"
      },
      "source": [
        "..."
      ]
    },
    {
      "cell_type": "markdown",
      "metadata": {
        "id": "ReMJ5qGZubSI"
      },
      "source": [
        "**2.** Дана обучающая выборка $(X_1, Y_1), ..., (X_n, Y_n)$, где $X_i \\in \\mathbb{R}$ и $Y_i \\in \\mathbb{R}$. Нейронная сеть обучается по этой выборке минимизируя MSE\n",
        "$$\\text{MSE} = \\sum_{i=1}^n \\big(Y_i - \\widehat{y}(X_i)\\big)^2.$$\n",
        "\n",
        "Наша задача &mdash; выписать производные по всем параметрам сети для использования градиентного спуска. Конечно, в данном случае довольно просто выписать все производные напрямую. Мы будем выписывать их поэтапно, так вам будет проще понять общую процедуру в дальнейшем."
      ]
    },
    {
      "cell_type": "markdown",
      "metadata": {
        "id": "Yz4uyCbvubSJ"
      },
      "source": [
        "**2.1.** Начнем с производной MSE по выходам сети\n",
        "$$\\frac{\\partial\\:\\text{MSE}}{\\partial \\widehat{y}(X_i)} = ...$$\n",
        "\n",
        "Теперь мы можем взять производные выходов сети по весам последнего слоя\n",
        "\n",
        "$$\\frac{\\partial \\widehat{y}(X_i)}{\\partial w_{21}} = ...$$\n",
        "\n",
        "$$\\frac{\\partial \\widehat{y}(X_i)}{\\partial w_{22}} = ...$$\n",
        "\n",
        "$$\\frac{\\partial \\widehat{y}(X_i)}{\\partial b_2} = ...$$\n",
        "\n",
        "Наконец, выпишем производные MSE по весам последнего слоя. Для этого вспомните правило производной сложной функции из математического анализа.\n",
        "\n",
        "$$\\frac{\\partial\\:\\text{MSE}}{\\partial w_{21}} = \\sum_{i=1}^n \\frac{\\partial\\:\\text{MSE}}{...} \\frac{\\partial ...}{\\partial w_{21}} = ... $$\n",
        "\n",
        "$$\\frac{\\partial\\:\\text{MSE}}{\\partial w_{22}} = \\sum_{i=1}^n \\frac{\\partial \\:\\text{MSE}}{...} \\frac{\\partial ...}{\\partial w_{22}} = ... $$\n",
        "\n",
        "$$\\frac{\\partial\\:\\text{MSE}}{\\partial b_2} = \\sum_{i=1}^n \\frac{\\partial\\:\\text{MSE}}{...} \\frac{\\partial ...}{\\partial b_2} = ... $$"
      ]
    },
    {
      "cell_type": "markdown",
      "metadata": {
        "id": "4KpEL4YgubSM"
      },
      "source": [
        "**2.2.** Теперь будем разбираться с производным по параметрам первого слоя. Начнем с производной выхода сети по выходу певрого слоя.\n",
        "\n",
        "$$\\frac{\\partial \\widehat{y}(X_i)}{\\partial u_1(X_i)} = ...$$\n",
        "\n",
        "$$\\frac{\\partial \\widehat{y}(X_i)}{\\partial u_2(X_i)} = ...$$\n",
        "\n",
        "Далее нам пригодится производная функции активации, запишите ее так, чтобы ответе осталась функция от $\\sigma(x)$\n",
        "\n",
        "$$\\frac{\\partial\\:\\sigma(x)}{\\partial x} = ...$$\n",
        "\n",
        "Теперь мы можем взять производные выходов первого слоя по его параметрам\n",
        "\n",
        "$$\\frac{\\partial u_1(X_i)}{\\partial w_{11}} = ...$$\n",
        "\n",
        "$$\\frac{\\partial u_1(X_i)}{\\partial b_{11}} = ...$$\n",
        "\n",
        "$$\\frac{\\partial u_2(X_i)}{\\partial w_{12}} = ...$$\n",
        "\n",
        "$$\\frac{\\partial u_2(X_i)}{\\partial b_{12}} = ...$$\n",
        "\n",
        "Наконец, выпишем производные MSE по весам первого слоя. Аналогично, запишите правило производной сложной функции и выпишите итоговый ответ.\n",
        "\n",
        "$$\\frac{\\partial\\:\\text{MSE}}{\\partial w_{11}} = ...$$\n",
        "\n",
        "$$\\frac{\\partial\\:\\text{MSE}}{\\partial b_{11}} = ...$$\n",
        "\n",
        "$$\\frac{\\partial\\:\\text{MSE}}{\\partial w_{12}} = ...$$\n",
        "\n",
        "$$\\frac{\\partial\\:\\text{MSE}}{\\partial b_{12}} = ...$$"
      ]
    },
    {
      "cell_type": "markdown",
      "metadata": {
        "id": "AFgtQ6dDubSO"
      },
      "source": [
        "Вы могли заметить, мы считали производные начиная с последнего слоя и постепенно доходили до первого. Подобная процедура называется *методом обратного распространения ошибки* (backpropagation), ее преимуществом является эффективное вычисление градиентов."
      ]
    },
    {
      "cell_type": "markdown",
      "metadata": {
        "id": "ZeTtWmaCubSO"
      },
      "source": [
        "**3.** Выпишите формулу градиентного спуска по одному из параметров.\n",
        "\n",
        "## Ответ на пункты выше:"
      ]
    },
    {
      "cell_type": "markdown",
      "metadata": {
        "id": "fXqov5JiubSO"
      },
      "source": [
        "![11.jpg](attachment:11.jpg)"
      ]
    },
    {
      "cell_type": "markdown",
      "metadata": {
        "id": "D-hPUJqcubSP"
      },
      "source": [
        "![12.jpg](attachment:12.jpg)"
      ]
    },
    {
      "cell_type": "markdown",
      "metadata": {
        "id": "-waoV4MXubSQ"
      },
      "source": [
        "Пусть обучающая выборка очень большая. Что нужно делать в таком случае? Запишите, как нужно поменять правило обновления параметров."
      ]
    },
    {
      "cell_type": "markdown",
      "metadata": {
        "id": "ZJa-YZRFubSR"
      },
      "source": [
        "~~*Разделяем выборку на батчи, т.е. на N / k подмассивов, где k - размер выборки поменьше. Для такой техники будем для каждого батча считать градиент, потом усреднять градиент по всем батчам и использовать уже усредненный для обновления параметра в 3 пункте.~~"
      ]
    },
    {
      "cell_type": "markdown",
      "metadata": {
        "id": "U_oAbeUkubSR"
      },
      "source": [
        "---\n",
        "### Задача 2.\n",
        "\n",
        "Реализуйте класс нейронной сети из задачи 1 в стиле scikit-learn, например, см. шаблон класса задачи 4 из <a href=\"https://mipt-stats.gitlab.io/courses/ad_fivt/task6.html#Задача-4.\" target=\"_blank\">задания 6</a>. Предусмотрите возможность обучения по случайным батчам. При реализации можно использовать только библиотеку `numpy`."
      ]
    },
    {
      "cell_type": "code",
      "execution_count": 3,
      "metadata": {},
      "outputs": [],
      "source": [
        "cool_weights = [[-0.7173, -0.7389, 0.7966, -1.1601],\n",
        "                [-4.0368, -3.2180, 3.5530, 0],]"
      ]
    },
    {
      "cell_type": "code",
      "execution_count": 98,
      "metadata": {
        "id": "WrLCmXKpubSS"
      },
      "outputs": [],
      "source": [
        "def mse_grad(y_pred, y):\n",
        "    return 2 * (y - y_pred)\n",
        "\n",
        "def mse(y_pred, y):\n",
        "    return np.mean((y - y_pred) ** 2)\n",
        "\n",
        "def act_fn(X):\n",
        "    return 1 / (1 + np.exp(-X))\n",
        "\n",
        "class Net2L:\n",
        "    def __init__(self):\n",
        "        self.w_ = np.random.rand(2, 4)\n",
        "        # self.w_ = np.array(cool_weights, dtype=np.float32)\n",
        "        # self.w_ = np.zeros(shape=(2,4), dtype=np.float64)\n",
        "        \n",
        "        '''\n",
        "            self.w_ = w11 w21\n",
        "                      w12 w22\n",
        "                      b11 b2\n",
        "                      b12 sentinel\n",
        "        '''\n",
        "        \n",
        "        self.act_fn = act_fn\n",
        "        self.grad_ = np.zeros(shape=(2,4), dtype=np.float64)\n",
        "        \n",
        "        '''\n",
        "            self.grad_ = grad_w11 grad_w21\n",
        "                         grad_w12 grad_w22\n",
        "                         grad_b11 grad_b2\n",
        "                         grad_b12 sentinel\n",
        "        '''\n",
        "        \n",
        "        self.fitted = False\n",
        "        \n",
        "    def zero_grad(self):\n",
        "        self.grad = np.zeros((2, 4))\n",
        "        \n",
        "    def forward(self, X):\n",
        "        u1 = self.act_fn(self.w_[0][0] * X + self.w_[0][2])\n",
        "        u2 = self.act_fn(self.w_[0][1] * X + self.w_[0][3])\n",
        "        forward_out = self.w_[1][0] * u1 + self.w_[1][1] * u2 + self.w_[1][2]\n",
        "        return u1, u2, forward_out\n",
        "        \n",
        "    def backward(self, X, Y, loss_fn_grad):\n",
        "        u1, u2, forward_out = self.forward(X)\n",
        "        \n",
        "        loss_grad = loss_fn_grad(forward_out, Y)\n",
        "        \n",
        "        # print(np.sum(loss_grad * u1))\n",
        "        # sys.exit()\n",
        "        \n",
        "        self.grad_[1][0] += np.sum(loss_grad * u1)\n",
        "        self.grad_[1][1] += np.sum(loss_grad * u2)\n",
        "        self.grad_[1][2] += np.sum(loss_grad)\n",
        "        \n",
        "        tmp = 2 * self.w_[1][0] * forward_out * u1 * (1 - u1)\n",
        "        self.grad_[0][0] += np.sum(tmp * X)\n",
        "        self.grad_[0][2] += np.sum(tmp)\n",
        "        \n",
        "        tmp = 2 * self.w_[1][1] * forward_out * u2 * (1 - u2)\n",
        "        self.grad_[0][1] += np.sum(tmp * X)\n",
        "        self.grad_[0][3] += np.sum(tmp)\n",
        "        \n",
        "        \n",
        "    def fit(self, X, Y, loss_fn_grad=mse_grad, epochs=100, learning_rate=0.001):\n",
        "        '''\n",
        "        X.shape = (samples_size, batch_size, 1)\n",
        "        '''\n",
        "        batch_size = X.shape[0]\n",
        "        \n",
        "        for e in tqdm(range(epochs)):\n",
        "            for (X_b, Y_b) in zip(X, Y):\n",
        "                X = X.astype(np.float128)\n",
        "                \n",
        "                self.backward(X_b, Y_b, loss_fn_grad)\n",
        "                # self.w_ -= learning_rate * self.grad_ / (X.shape[1])\n",
        "                # self.zero_grad()\n",
        "\n",
        "            # print(self.grad_)\n",
        "            self.w_ -= learning_rate * self.grad_ / (X.shape[0] * X.shape[1])\n",
        "            self.zero_grad()\n",
        "\n",
        "        self.fitted = True\n",
        "    \n",
        "    def predict(self, X):\n",
        "        '''\n",
        "        Вычисление предсказаний.\n",
        "        \n",
        "        Аргументы:\n",
        "        X -- numpy-матрица объект-признак размера (n, d);\n",
        "        \n",
        "        Возвращает:\n",
        "        predictions -- предсказания в виде numpy-вектора размера (n,).\n",
        "        '''\n",
        "        # assert(self.fitted == True)\n",
        "        return self.forward(X)[-1]"
      ]
    },
    {
      "cell_type": "markdown",
      "metadata": {
        "id": "-sNBrJrcubSU"
      },
      "source": [
        "Сгенерируем данные. Возьмите какую-либо нелинейную функцию $y(x)$."
      ]
    },
    {
      "cell_type": "code",
      "execution_count": 99,
      "metadata": {
        "id": "1tuFBOBHubSU"
      },
      "outputs": [],
      "source": [
        "# sample_size = int(100000)\n",
        "sample_size = int(1e6)\n",
        "X = sps.norm.rvs(size=(sample_size, 1))\n",
        "# y = np.exp(X)\n",
        "# y = np.sin(X)\n",
        "y = X\n",
        "\n",
        "X, y = shuffle((X, y))\n",
        "X, X_test, y, y_test = train_test_split(X, y, test_size=0.33, random_state=42)\n",
        "\n",
        "# batch_size  = X.shape[0]\n",
        "batch_size = 1000\n",
        "# batch_size = 1\n",
        "\n",
        "X = X.reshape(X.shape[0] // batch_size, batch_size, 1)\n",
        "y = y.reshape(y.shape[0] // batch_size, batch_size, 1)"
      ]
    },
    {
      "cell_type": "markdown",
      "metadata": {
        "id": "90FIEg5iubSV"
      },
      "source": [
        "Обучите нейронную сеть на этих данных, а также простую линейную регрессию."
      ]
    },
    {
      "cell_type": "code",
      "execution_count": 103,
      "metadata": {
        "colab": {
          "referenced_widgets": [
            "3f3d2c49270143cf88a9e5e0cfc75bb0"
          ]
        },
        "id": "W0xDsHgcubSW",
        "outputId": "c6b44a81-3e45-4284-b026-4cd43eb256e2"
      },
      "outputs": [
        {
          "name": "stderr",
          "output_type": "stream",
          "text": [
            "/tmp/ipykernel_121212/1483835435.py:71: TqdmDeprecationWarning: This function will be removed in tqdm==5.0.0\n",
            "Please use `tqdm.notebook.tqdm` instead of `tqdm.tqdm_notebook`\n",
            "  for e in tqdm(range(epochs)):\n"
          ]
        },
        {
          "data": {
            "application/vnd.jupyter.widget-view+json": {
              "model_id": "3da93381035e468c999e018017e973cf",
              "version_major": 2,
              "version_minor": 0
            },
            "text/plain": [
              "  0%|          | 0/50 [00:00<?, ?it/s]"
            ]
          },
          "metadata": {},
          "output_type": "display_data"
        }
      ],
      "source": [
        "np.set_printoptions(suppress=True)\n",
        "\n",
        "model = Net2L()\n",
        "model.fit(X, y, epochs=50, learning_rate=0.005)"
      ]
    },
    {
      "cell_type": "code",
      "execution_count": 104,
      "metadata": {},
      "outputs": [
        {
          "data": {
            "text/plain": [
              "array([[ -2.28936856,  -0.21549274, -13.52521652, -11.96029701],\n",
              "       [ 13.29388861,  10.88240273,  69.14212014,   0.44972113]])"
            ]
          },
          "execution_count": 104,
          "metadata": {},
          "output_type": "execute_result"
        }
      ],
      "source": [
        "model.w_"
      ]
    },
    {
      "cell_type": "code",
      "execution_count": 105,
      "metadata": {},
      "outputs": [
        {
          "data": {
            "image/png": "[encoded data removed]",
            "text/plain": [
              "<Figure size 720x504 with 1 Axes>"
            ]
          },
          "metadata": {
            "needs_background": "light"
          },
          "output_type": "display_data"
        },
        {
          "name": "stdout",
          "output_type": "stream",
          "text": [
            "MSE = 4781.402\n"
          ]
        }
      ],
      "source": [
        "pred = model.predict(X_test.reshape(-1, 1, 1)).reshape(-1, 1)\n",
        "loss = mse(pred, y_test)\n",
        "# fig, (ax1, ax2) = plt.subplots(1,2, figsize=(15, 10))\n",
        "show_progress_np(X_test, y_test, pred, loss)"
      ]
    },
    {
      "cell_type": "markdown",
      "metadata": {
        "id": "miYw7O6-ubSX"
      },
      "source": [
        "Визуализируйте предсказания данных моделей и посчитайте MSE на тестовой части данных."
      ]
    },
    {
      "cell_type": "code",
      "execution_count": null,
      "metadata": {
        "id": "wNmd_L5aubSX",
        "outputId": "23a2afca-6b7d-4c97-ae55-150187133089"
      },
      "outputs": [
        {
          "data": {
            "text/plain": [
              "<AxesSubplot:>"
            ]
          },
          "execution_count": 326,
          "metadata": {},
          "output_type": "execute_result"
        },
        {
          "data": {
            "image/png": "[encoded data removed]",
            "text/plain": [
              "<Figure size 1080x720 with 2 Axes>"
            ]
          },
          "metadata": {
            "needs_background": "light"
          },
          "output_type": "display_data"
        }
      ],
      "source": [
        "size = X[0].shape[0]\n",
        "pred = model.predict(X[0].reshape(1, size, 1))\n",
        "\n",
        "data = X[0].reshape(size)\n",
        "pred = pred.reshape(size)\n",
        "\n",
        "fig, (ax1, ax2) = plt.subplots(1,2, figsize=(15, 10))\n",
        "\n",
        "sns.scatterplot(x = data, y=pred, ax=ax1)\n",
        "sns.scatterplot(x = data, y=y[0].reshape(size))"
      ]
    },
    {
      "cell_type": "markdown",
      "metadata": {
        "id": "TVSWHMheubSZ"
      },
      "source": [
        "Повторите вычисления для другой нелинейной функции $y(x)$."
      ]
    },
    {
      "cell_type": "code",
      "execution_count": null,
      "metadata": {
        "id": "zzbrgGTlubSa"
      },
      "outputs": [],
      "source": []
    },
    {
      "cell_type": "markdown",
      "metadata": {
        "id": "xXvZr_BzubSa"
      },
      "source": [
        "**Вывод:**\n",
        "..."
      ]
    },
    {
      "cell_type": "markdown",
      "metadata": {
        "id": "z_p-b2GtubSb"
      },
      "source": [
        "---\n",
        "### Задача 3.\n",
        "\n",
        "Теперь напишите рассмотренную ранее нейронную сеть с помощью библиотеки `pytorch`, используя Sequential-стиль. Перед выполнением задачи рекомендуется посмотреть <a href=\"https://mipt-stats.gitlab.io/courses/ad_fivt/nn_simple_examples.html#3.-Готовые-модули-из-PyTorch\" target=\"_blank\">ноутбук</a> с занятия. Функция активации реализована как `torch.nn.Sigmoid`.\n",
        "\n",
        "*Внимание.* Для выполнения задачи потребуется установить библиотеку `pytorch`. Альтернативный вариант &mdash; выполнение в <a href=\"https://colab.research.google.com\" target=\"_blank\">Google Colab</a>. Учитывайте, что при длительном бездействии Colab может сам завершить работу ядра."
      ]
    },
    {
      "cell_type": "markdown",
      "metadata": {
        "id": "5AzlV9dK6S0T"
      },
      "source": [
        "Обучите нейросеть на рассмотренных ранее данных. Используйте код с занятия."
      ]
    },
    {
      "cell_type": "code",
      "execution_count": 11,
      "metadata": {
        "id": "oHoC6kZbubSc"
      },
      "outputs": [],
      "source": [
        "import torch\n",
        "from torch import nn\n",
        "import torch.nn.functional as F"
      ]
    },
    {
      "cell_type": "code",
      "execution_count": 34,
      "metadata": {
        "colab": {
          "base_uri": "https://localhost:8080/"
        },
        "id": "ytHB7bpuvKlH",
        "outputId": "28f7a75e-b236-435f-c2ff-ffae3638c3f4"
      },
      "outputs": [
        {
          "data": {
            "text/plain": [
              "Sequential(\n",
              "  (0): Linear(in_features=1, out_features=2, bias=True)\n",
              "  (1): Sigmoid()\n",
              "  (2): Linear(in_features=2, out_features=1, bias=True)\n",
              ")"
            ]
          },
          "execution_count": 34,
          "metadata": {},
          "output_type": "execute_result"
        }
      ],
      "source": [
        "model = nn.Sequential(\n",
        "    nn.Linear(in_features=1, out_features=2, bias=True),\n",
        "    nn.Sigmoid(),\n",
        "    nn.Linear(in_features=2, out_features=1, bias=True)\n",
        ")\n",
        "\n",
        "model"
      ]
    },
    {
      "cell_type": "code",
      "execution_count": 36,
      "metadata": {
        "id": "kcsUFUD8vpFQ"
      },
      "outputs": [],
      "source": [
        "optimizer = torch.optim.SGD(model.parameters(), lr=0.02)\n",
        "optim_func = nn.MSELoss()"
      ]
    },
    {
      "cell_type": "code",
      "execution_count": 37,
      "metadata": {
        "colab": {
          "base_uri": "https://localhost:8080/",
          "height": 487
        },
        "id": "RDcDU7eSwDhp",
        "outputId": "cb3ce76a-c006-45aa-a8e4-095bfbc1dbc6"
      },
      "outputs": [
        {
          "data": {
            "image/png": "[encoded data removed]",
            "text/plain": [
              "<Figure size 720x504 with 1 Axes>"
            ]
          },
          "metadata": {
            "needs_background": "light"
          },
          "output_type": "display_data"
        },
        {
          "name": "stdout",
          "output_type": "stream",
          "text": [
            "MSE = 0.007\n",
            "Готово!\n"
          ]
        }
      ],
      "source": [
        "# Количество итераций\n",
        "epochs = 10010\n",
        "\n",
        "XT = torch.from_numpy(X.astype(np.float32))\n",
        "yT = torch.from_numpy(y.astype(np.float32))\n",
        "\n",
        "stop = False\n",
        "\n",
        "for i in range(epochs):\n",
        "    if stop:\n",
        "        break\n",
        "\n",
        "    for (X_b, Y_b) in zip(XT, yT):\n",
        "\n",
        "      # Forward pass: предсказание модели\n",
        "      y_pred =  model(X_b)\n",
        "      # Подсчет оптимизируемой функции (MSE)\n",
        "      loss = optim_func(y_pred, Y_b)\n",
        "      # Bakcward pass: подсчет градиентов\n",
        "      loss.backward()\n",
        "      # Оптимизация: обновление параметров\n",
        "      optimizer.step()\n",
        "      optimizer.zero_grad()\n",
        "\n",
        "    # График + вывод MSE через каждые 5 итераций\n",
        "    if (i + 1) % 5 == 0:\n",
        "        show_progress(X_b, Y_b, y_pred, loss)\n",
        "        if loss.item() < 35:\n",
        "            print(\"Готово!\")\n",
        "            stop = True\n",
        "            break"
      ]
    }
  ],
  "metadata": {
    "colab": {
      "collapsed_sections": [],
      "name": "task10.ipynb",
      "provenance": []
    },
    "kernelspec": {
      "display_name": "Python 3 (ipykernel)",
      "language": "python",
      "name": "python3"
    },
    "language_info": {
      "codemirror_mode": {
        "name": "ipython",
        "version": 3
      },
      "file_extension": ".py",
      "mimetype": "text/x-python",
      "name": "python",
      "nbconvert_exporter": "python",
      "pygments_lexer": "ipython3",
      "version": "3.9.7"
    }
  },
  "nbformat": 4,
  "nbformat_minor": 0
}
